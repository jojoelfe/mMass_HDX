{
 "metadata": {
  "name": ""
 },
 "nbformat": 3,
 "nbformat_minor": 0,
 "worksheets": [
  {
   "cells": [
    {
     "cell_type": "code",
     "collapsed": false,
     "input": [
      "from mspy import *\n",
      "%pylab --no-import-all inline "
     ],
     "language": "python",
     "metadata": {},
     "outputs": [
      {
       "output_type": "stream",
       "stream": "stdout",
       "text": [
        "Populating the interactive namespace from numpy and matplotlib\n"
       ]
      }
     ],
     "prompt_number": 1
    },
    {
     "cell_type": "code",
     "collapsed": false,
     "input": [
      "# Load test file\n",
      "mzfile = parseMZML('t0r3t1.mzML')"
     ],
     "language": "python",
     "metadata": {},
     "outputs": [],
     "prompt_number": 2
    },
    {
     "cell_type": "code",
     "collapsed": false,
     "input": [
      "\n",
      "# Get level 1 scans from 5 to 8 minutes\n",
      "scanlist = mzfile.scanlist()\n",
      "relevant_scans = []\n",
      "for i_scan in scanlist.keys():\n",
      "    if scanlist[i_scan]['filterString'] == u'FTMS + p ESI sid=35.00  Full ms [400.00-1300.00]' and scanlist[i_scan]['retentionTime'] > 300 and scanlist[i_scan]['retentionTime'] < 480:\n",
      "        relevant_scans.append(i_scan)"
     ],
     "language": "python",
     "metadata": {},
     "outputs": [],
     "prompt_number": 3
    },
    {
     "cell_type": "code",
     "collapsed": false,
     "input": [
      "%%time \n",
      "# Average the old way\n",
      "av_scan_old = None\n",
      "av_scan_old_filtered = None\n",
      "for i_scan in relevant_scans:\n",
      "    if av_scan_old == None:\n",
      "        av_scan_old = mzfile.scan(i_scan)\n",
      "    else:\n",
      "        av_scan_old += mzfile.scan(i_scan)"
     ],
     "language": "python",
     "metadata": {},
     "outputs": [
      {
       "output_type": "stream",
       "stream": "stdout",
       "text": [
        "CPU times: user 2min 14s, sys: 8.61 s, total: 2min 23s\n",
        "Wall time: 2min 23s\n"
       ]
      }
     ],
     "prompt_number": 4
    },
    {
     "cell_type": "code",
     "collapsed": false,
     "input": [
      "%%time \n",
      "# Average the old way\n",
      "\n",
      "av_scan_old_filtered = None\n",
      "for i_scan in relevant_scans:\n",
      "    if av_scan_old_filtered == None:\n",
      "        av_scan_old_filtered = mzfile.scan(i_scan)\n",
      "    else:\n",
      "        av_scan_old_filtered += mzfile.scan(i_scan)\n",
      "        \n",
      "av_scan_old_filtered.profile = calculations.signal_reduce(av_scan_old_filtered.profile, 0.002)\n",
      "        "
     ],
     "language": "python",
     "metadata": {},
     "outputs": [
      {
       "output_type": "stream",
       "stream": "stdout",
       "text": [
        "CPU times: user 2min 13s, sys: 8.53 s, total: 2min 21s\n",
        "Wall time: 2min 21s\n"
       ]
      }
     ],
     "prompt_number": 19
    },
    {
     "cell_type": "code",
     "collapsed": false,
     "input": [
      "av_scan_old.profile.shape\n",
      "\n"
     ],
     "language": "python",
     "metadata": {},
     "outputs": [
      {
       "metadata": {},
       "output_type": "pyout",
       "prompt_number": 23,
       "text": [
        "(3247047, 2)"
       ]
      }
     ],
     "prompt_number": 23
    },
    {
     "cell_type": "code",
     "collapsed": false,
     "input": [
      "av_scan_old_filtered.profile.shape"
     ],
     "language": "python",
     "metadata": {},
     "outputs": [
      {
       "metadata": {},
       "output_type": "pyout",
       "prompt_number": 24,
       "text": [
        "(248759, 2)"
       ]
      }
     ],
     "prompt_number": 24
    },
    {
     "cell_type": "code",
     "collapsed": false,
     "input": [
      "plt.plot(*av_scan_old.profile.T)"
     ],
     "language": "python",
     "metadata": {},
     "outputs": [
      {
       "metadata": {},
       "output_type": "pyout",
       "prompt_number": 8,
       "text": [
        "[<matplotlib.lines.Line2D at 0x10f1c5110>]"
       ]
      },
      {
       "metadata": {},
       "output_type": "display_data",
       "png": "[encoded data removed]",
       "text": [
        "<matplotlib.figure.Figure at 0x10c863f90>"
       ]
      }
     ],
     "prompt_number": 8
    },
    {
     "cell_type": "code",
     "collapsed": false,
     "input": [
      "plt.plot(*av_scan_old_filtered.profile.T)"
     ],
     "language": "python",
     "metadata": {},
     "outputs": [
      {
       "metadata": {},
       "output_type": "pyout",
       "prompt_number": 9,
       "text": [
        "[<matplotlib.lines.Line2D at 0x10d806050>]"
       ]
      },
      {
       "metadata": {},
       "output_type": "display_data",
       "png": "[encoded data removed]",
       "text": [
        "<matplotlib.figure.Figure at 0x10c9d3e10>"
       ]
      }
     ],
     "prompt_number": 9
    },
    {
     "cell_type": "code",
     "collapsed": false,
     "input": [
      "av_scan_old_crop = av_scan_old.duplicate()\n",
      "av_scan_old_crop.crop(760,762.6)\n",
      "plt.plot(*av_scan_old_crop.profile.T)\n",
      "np.max(av_scan_old_crop.profile.T[1])"
     ],
     "language": "python",
     "metadata": {},
     "outputs": [
      {
       "metadata": {},
       "output_type": "pyout",
       "prompt_number": 21,
       "text": [
        "541757375.93882918"
       ]
      },
      {
       "metadata": {},
       "output_type": "display_data",
       "png": "[encoded data removed]",
       "text": [
        "<matplotlib.figure.Figure at 0x10ddbbe10>"
       ]
      }
     ],
     "prompt_number": 21
    },
    {
     "cell_type": "code",
     "collapsed": false,
     "input": [
      "av_scan_old_crop = av_scan_old_filtered.duplicate()\n",
      "av_scan_old_crop.crop(760,762.6)\n",
      "plt.plot(*av_scan_old_crop.profile.T)\n",
      "np.max(av_scan_old_crop.profile.T[1])"
     ],
     "language": "python",
     "metadata": {},
     "outputs": [
      {
       "metadata": {},
       "output_type": "pyout",
       "prompt_number": 22,
       "text": [
        "541757375.93882918"
       ]
      },
      {
       "metadata": {},
       "output_type": "display_data",
       "png": "[encoded data removed]",
       "text": [
        "<matplotlib.figure.Figure at 0x10dd968d0>"
       ]
      }
     ],
     "prompt_number": 22
    },
    {
     "cell_type": "code",
     "collapsed": false,
     "input": [
      "np.max(av_scan_old_crop.profile.T[1])"
     ],
     "language": "python",
     "metadata": {},
     "outputs": [
      {
       "metadata": {},
       "output_type": "pyout",
       "prompt_number": 12,
       "text": [
        "537185695.47579002"
       ]
      }
     ],
     "prompt_number": 12
    },
    {
     "cell_type": "code",
     "collapsed": false,
     "input": [],
     "language": "python",
     "metadata": {},
     "outputs": [],
     "prompt_number": 12
    }
   ],
   "metadata": {}
  }
 ]
}