{
 "metadata": {
  "name": ""
 },
 "nbformat": 3,
 "nbformat_minor": 0,
 "worksheets": [
  {
   "cells": [
    {
     "cell_type": "code",
     "collapsed": false,
     "input": [
      "from mspy import *\n",
      "%pylab --no-import-all inline "
     ],
     "language": "python",
     "metadata": {},
     "outputs": [
      {
       "output_type": "stream",
       "stream": "stdout",
       "text": [
        "Populating the interactive namespace from numpy and matplotlib\n"
       ]
      }
     ],
     "prompt_number": 1
    },
    {
     "cell_type": "code",
     "collapsed": false,
     "input": [
      "# Load test file\n",
      "mzfile = parseMZML('t0r3t1.mzML')\n",
      "mzfile.load()"
     ],
     "language": "python",
     "metadata": {},
     "outputs": [],
     "prompt_number": 25
    },
    {
     "cell_type": "code",
     "collapsed": false,
     "input": [
      "# Get level 1 scans from 5 to 8 minutes\n",
      "scanlist = mzfile.scanlist()\n",
      "relevant_scans = []\n",
      "for i_scan in scanlist.keys():\n",
      "    if scanlist[i_scan]['filterString'] == u'FTMS + p ESI sid=35.00  Full ms [400.00-1300.00]' and scanlist[i_scan]['retentionTime'] > 300 and scanlist[i_scan]['retentionTime'] < 480:\n",
      "        relevant_scans.append(i_scan)"
     ],
     "language": "python",
     "metadata": {},
     "outputs": [],
     "prompt_number": 26
    },
    {
     "cell_type": "code",
     "collapsed": false,
     "input": [
      "%%time \n",
      "# Average the old way\n",
      "\n",
      "av_scan_old_filtered = None\n",
      "for i_scan in relevant_scans:\n",
      "    if av_scan_old_filtered == None:\n",
      "        av_scan_old_filtered = mzfile.scan(i_scan)\n",
      "    else:\n",
      "        av_scan_old_filtered += mzfile.scan(i_scan)\n",
      "        \n",
      "av_scan_old_filtered.profile = calculations.signal_reduce(av_scan_old_filtered.profile, 0.002)\n",
      "        "
     ],
     "language": "python",
     "metadata": {},
     "outputs": [
      {
       "output_type": "stream",
       "stream": "stdout",
       "text": [
        "Wall time: 19.7 s\n"
       ]
      }
     ],
     "prompt_number": 27
    },
    {
     "cell_type": "code",
     "collapsed": false,
     "input": [
      "av_scan_old_crop = av_scan_old_filtered.duplicate()\n",
      "av_scan_old_crop.crop(899,901)\n",
      "plt.plot(*av_scan_old_crop.profile.T)\n",
      "np.max(av_scan_old_crop.profile.T[1])"
     ],
     "language": "python",
     "metadata": {},
     "outputs": [
      {
       "metadata": {},
       "output_type": "pyout",
       "prompt_number": 122,
       "text": [
        "293821558.67008591"
       ]
      },
      {
       "metadata": {},
       "output_type": "display_data",
       "png": "[encoded data removed]",
       "text": [
        "<matplotlib.figure.Figure at 0x28598530>"
       ]
      }
     ],
     "prompt_number": 122
    },
    {
     "cell_type": "code",
     "collapsed": false,
     "input": [
      "whole_mass = compound('C443H692N146O112S')"
     ],
     "language": "python",
     "metadata": {},
     "outputs": [],
     "prompt_number": 137
    },
    {
     "cell_type": "code",
     "collapsed": false,
     "input": [
      "pattern = whole_mass.pattern(charge=11,threshold=0.005,real=False)"
     ],
     "language": "python",
     "metadata": {},
     "outputs": [],
     "prompt_number": 141
    },
    {
     "cell_type": "code",
     "collapsed": false,
     "input": [
      "res = mod_pattern.matchpattern(signal=av_scan_old_filtered.profile,pattern=pattern)"
     ],
     "language": "python",
     "metadata": {},
     "outputs": [],
     "prompt_number": 142
    },
    {
     "cell_type": "code",
     "collapsed": false,
     "input": [
      "res"
     ],
     "language": "python",
     "metadata": {},
     "outputs": [
      {
       "metadata": {},
       "output_type": "pyout",
       "prompt_number": 143,
       "text": [
        "0.01998184342893643"
       ]
      }
     ],
     "prompt_number": 143
    },
    {
     "cell_type": "code",
     "collapsed": false,
     "input": [
      "pattern"
     ],
     "language": "python",
     "metadata": {},
     "outputs": [
      {
       "metadata": {},
       "output_type": "pyout",
       "prompt_number": 144,
       "text": [
        "[[899.3042069374308, 0.021128874417616406],\n",
        " [899.3953683062224, 0.11540920811148876],\n",
        " [899.4865249846265, 0.32037096774290547],\n",
        " [899.5776774337245, 0.6021618925176518],\n",
        " [899.6688260782227, 0.8614970266932012],\n",
        " [899.7599713048064, 1.0],\n",
        " [899.8511134578531, 0.9803640659389095],\n",
        " [899.942252827239, 0.8343635029927197],\n",
        " [900.0333896179835, 0.6288359274507292],\n",
        " [900.1245238763149, 0.42596476302475567],\n",
        " [900.2156552999513, 0.2622182709098672],\n",
        " [900.3067827058006, 0.14780052084631184],\n",
        " [900.3979026006011, 0.07650596568010794],\n",
        " [900.4890041371426, 0.03613776851070107],\n",
        " [900.5800791731236, 0.015471066028701715],\n",
        " [900.6711501851747, 0.006095518507304675]]"
       ]
      }
     ],
     "prompt_number": 144
    },
    {
     "cell_type": "code",
     "collapsed": false,
     "input": [
      "corr"
     ],
     "language": "python",
     "metadata": {},
     "outputs": [
      {
       "metadata": {},
       "output_type": "pyout",
       "prompt_number": 16,
       "text": [
        "array([[  3.57670000e+04,   7.15340089e+04,   1.07301018e+05, ...,\n",
        "          1.07625054e+05,   7.17501436e+04,   3.58751000e+04],\n",
        "       [  2.77228752e+07,   5.45063562e+07,   8.12898368e+07, ...,\n",
        "          5.18111769e+07,   2.70186977e+07,   1.29037412e+07],\n",
        "       [  4.40238581e+08,   8.65240490e+08,   1.29024212e+09, ...,\n",
        "          8.10741278e+08,   4.18691483e+08,   1.99539278e+08]])"
       ]
      }
     ],
     "prompt_number": 16
    },
    {
     "cell_type": "code",
     "collapsed": false,
     "input": [
      "plt.imshow(corr)"
     ],
     "language": "python",
     "metadata": {},
     "outputs": [
      {
       "metadata": {},
       "output_type": "pyout",
       "prompt_number": 19,
       "text": [
        "<matplotlib.image.AxesImage at 0x7e76c30>"
       ]
      },
      {
       "metadata": {},
       "output_type": "display_data",
       "png": "[encoded data removed]",
       "text": [
        "<matplotlib.figure.Figure at 0x5e4f090>"
       ]
      }
     ],
     "prompt_number": 19
    },
    {
     "cell_type": "code",
     "collapsed": false,
     "input": [],
     "language": "python",
     "metadata": {},
     "outputs": []
    }
   ],
   "metadata": {}
  }
 ]
}